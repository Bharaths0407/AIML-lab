{
 "cells": [
  {
   "cell_type": "code",
   "execution_count": 1,
   "metadata": {},
   "outputs": [],
   "source": [
    "import numpy as np\n",
    "\n",
    "def sigmoid(x):\n",
    "    return 1 / (1 + np.exp(-x))\n",
    "\n",
    "X = np.array([[2, 9], [1, 5], [3, 6]], dtype=float) / 9\n",
    "y = np.array([[92], [86], [89]], dtype=float) / 100\n",
    "\n",
    "input_neurons, hidden_neurons, output_neurons = 2, 3, 1\n",
    "learning_rate, epochs = 0.2, 7000\n",
    "\n",
    "wh = np.random.uniform(size=(input_neurons, hidden_neurons))\n",
    "wout = np.random.uniform(size=(hidden_neurons, output_neurons))"
   ]
  },
  {
   "cell_type": "code",
   "execution_count": 2,
   "metadata": {},
   "outputs": [],
   "source": [
    "for epoch in range(epochs):\n",
    "    hidden_layer_activation = sigmoid(np.dot(X, wh))\n",
    "    predicted_output = sigmoid(np.dot(hidden_layer_activation, wout))\n",
    "\n",
    "    output_error = y - predicted_output\n",
    "    output_delta = output_error * predicted_output * (1 - predicted_output)\n",
    "    hidden_layer_error = np.dot(output_delta, wout.T)\n",
    "    hidden_layer_delta = hidden_layer_error * hidden_layer_activation * (1 - hidden_layer_activation)\n",
    "\n",
    "    wh += np.dot(X.T, hidden_layer_delta) * learning_rate\n",
    "    wout += np.dot(hidden_layer_activation.T, output_delta) * learning_rate"
   ]
  },
  {
   "cell_type": "code",
   "execution_count": null,
   "metadata": {},
   "outputs": [],
   "source": [
    "print(\"Input:\\n\", X * 9)\n",
    "print(\"Actual Output:\\n\", y)\n",
    "print(\"Predicted Output:\\n\", predicted_output)"
   ]
  }
 ],
 "metadata": {
  "kernelspec": {
   "display_name": "Python 3",
   "language": "python",
   "name": "python3"
  },
  "language_info": {
   "codemirror_mode": {
    "name": "ipython",
    "version": 3
   },
   "file_extension": ".py",
   "mimetype": "text/x-python",
   "name": "python",
   "nbconvert_exporter": "python",
   "pygments_lexer": "ipython3",
   "version": "3.11.4"
  }
 },
 "nbformat": 4,
 "nbformat_minor": 2
}
