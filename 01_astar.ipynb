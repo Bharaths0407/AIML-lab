{
 "cells": [
  {
   "cell_type": "code",
   "execution_count": null,
   "metadata": {},
   "outputs": [],
   "source": [
    "import heapq\n",
    "\n",
    "def astar(graph, start, goal, heuristic):\n",
    "    heap = [(heuristic[start], start, [])]\n",
    "    visited = set()\n",
    "    \n",
    "    while heap:\n",
    "        (cost, current, path) = heapq.heappop(heap)\n",
    "        if current in visited:\n",
    "            continue\n",
    "        visited.add(current)\n",
    "        path = path + [current]\n",
    "        \n",
    "        if current == goal:\n",
    "            return path\n",
    "        \n",
    "        for (neighbor, edge_cost) in graph[current]:\n",
    "            total_cost = cost - heuristic[current] + edge_cost + heuristic[neighbor]\n",
    "            heapq.heappush(heap, (total_cost, neighbor, path))\n",
    "\n",
    "    return []\n",
    "\n",
    "Graph_nodes = {\n",
    "    'S': [('B', 4), ('C', 3)],\n",
    "    'B': [('F', 5)],\n",
    "    'C': [('E', 10), ('D', 7)],\n",
    "    'D': [('E', 2)],\n",
    "    'E': [('G', 5)],\n",
    "    'F': [('G', 16)]\n",
    "}\n",
    "\n",
    "H_dist = {\n",
    "    'S': 14,\n",
    "    'B': 12,\n",
    "    'C': 11,\n",
    "    'D': 6,\n",
    "    'E': 4,\n",
    "    'F': 11,\n",
    "    'G': 0,\n",
    "}\n",
    "\n",
    "start_node = 'S'\n",
    "goal_node = 'G'\n",
    "\n",
    "path_found = astar(Graph_nodes, start_node, goal_node, H_dist)\n",
    "print(\"Path found:\", path_found)\n"
   ]
  }
 ],
 "metadata": {
  "kernelspec": {
   "display_name": "Python 3",
   "language": "python",
   "name": "python3"
  },
  "language_info": {
   "codemirror_mode": {
    "name": "ipython",
    "version": 3
   },
   "file_extension": ".py",
   "mimetype": "text/x-python",
   "name": "python",
   "nbconvert_exporter": "python",
   "pygments_lexer": "ipython3",
   "version": "3.11.4"
  }
 },
 "nbformat": 4,
 "nbformat_minor": 2
}
