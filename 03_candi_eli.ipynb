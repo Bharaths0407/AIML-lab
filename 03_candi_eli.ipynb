{
 "cells": [
  {
   "cell_type": "code",
   "execution_count": 1,
   "metadata": {},
   "outputs": [],
   "source": [
    "import pandas as pd"
   ]
  },
  {
   "cell_type": "code",
   "execution_count": 2,
   "metadata": {},
   "outputs": [],
   "source": [
    "def learn(data):\n",
    "    concepts = data.iloc[:, :-1].to_numpy()\n",
    "    target = data.iloc[:, -1].to_numpy()\n",
    "\n",
    "    specific_h = concepts[0].copy()\n",
    "\n",
    "    general_h = [[\"?\" for _ in specific_h] for _ in specific_h]\n",
    "\n",
    "    for i, instance in enumerate(concepts):\n",
    "        if target[i] == \"Yes\":\n",
    "            for j, attr in enumerate(instance):\n",
    "                if attr != specific_h[j]:\n",
    "                    specific_h[j] = \"?\"\n",
    "                    general_h[j][j] = \"?\"\n",
    "        else:\n",
    "            for j, (attr, specific_value) in enumerate(zip(instance, specific_h)):\n",
    "                if attr != specific_value and attr != \"?\":\n",
    "                    general_h[j][j] = specific_value\n",
    "\n",
    "    general_h = [row for row in general_h if row != [\"?\" for _ in specific_h]]\n",
    "\n",
    "    return specific_h, general_h"
   ]
  },
  {
   "cell_type": "code",
   "execution_count": null,
   "metadata": {},
   "outputs": [],
   "source": [
    "data = pd.read_csv(\"ce3.csv\")\n",
    "\n",
    "s_final, g_final = learn(data.copy())\n",
    "\n",
    "print(\"Final Specific Hypothesis:\", s_final, sep=\"\\n\")\n",
    "print(\"Final General Hypothesis:\", g_final, sep=\"\\n\")"
   ]
  }
 ],
 "metadata": {
  "kernelspec": {
   "display_name": "Python 3",
   "language": "python",
   "name": "python3"
  },
  "language_info": {
   "codemirror_mode": {
    "name": "ipython",
    "version": 3
   },
   "file_extension": ".py",
   "mimetype": "text/x-python",
   "name": "python",
   "nbconvert_exporter": "python",
   "pygments_lexer": "ipython3",
   "version": "3.11.4"
  }
 },
 "nbformat": 4,
 "nbformat_minor": 2
}
