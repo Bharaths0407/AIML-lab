{
 "cells": [
  {
   "cell_type": "code",
   "execution_count": 1,
   "metadata": {},
   "outputs": [],
   "source": [
    "import numpy as np\n",
    "import pandas as pd\n",
    "\n",
    "dataset= pd.read_csv('data4.csv')"
   ]
  },
  {
   "cell_type": "code",
   "execution_count": 2,
   "metadata": {},
   "outputs": [],
   "source": [
    "def entropy(target_col):\n",
    "    elements,counts = np.unique(target_col,return_counts = True)\n",
    "    entropy = np.sum([(-counts[i]/np.sum(counts))*np.log2(counts[i]/np.sum(counts)) for i in range(len(elements))])\n",
    "    return entropy"
   ]
  },
  {
   "cell_type": "code",
   "execution_count": 3,
   "metadata": {},
   "outputs": [],
   "source": [
    "def InfoGain(data, split_attribute_name, target_attribute_name=\"Decision\"):\n",
    "    total_entropy = entropy(data[target_attribute_name])\n",
    "\n",
    "    weighted_entropy = 0\n",
    "    unique_values, counts = np.unique(data[split_attribute_name], return_counts=True)\n",
    "    for value, count in zip(unique_values, counts):\n",
    "        subset = data[data[split_attribute_name] == value]\n",
    "        subset_entropy = entropy(subset[target_attribute_name])\n",
    "        weighted_entropy += (count / np.sum(counts)) * subset_entropy\n",
    "\n",
    "    info_gain = total_entropy - weighted_entropy\n",
    "    return info_gain"
   ]
  },
  {
   "cell_type": "code",
   "execution_count": 4,
   "metadata": {},
   "outputs": [],
   "source": [
    "def ID3(data, originaldata, features, target_attribute_name=\"Decision\", parent_node_class=None):\n",
    "    if len(np.unique(data[target_attribute_name])) <= 1:\n",
    "        return np.unique(data[target_attribute_name])[0]\n",
    "    elif len(data) == 0:\n",
    "        return np.unique(originaldata[target_attribute_name])[np.argmax(np.unique(originaldata[target_attribute_name], return_counts=True)[1])]\n",
    "    elif len(features) == 0:\n",
    "        return parent_node_class\n",
    "    else:\n",
    "        parent_node_class = np.unique(data[target_attribute_name])[np.argmax(np.unique(data[target_attribute_name], return_counts=True)[1])]\n",
    "\n",
    "        item_values = [InfoGain(data, feature, target_attribute_name) for feature in features]\n",
    "\n",
    "        best_feature = features[np.argmax(item_values)]\n",
    "\n",
    "        tree = {best_feature: {}}\n",
    "\n",
    "        remaining_features = [i for i in features if i != best_feature]\n",
    "\n",
    "        for value in np.unique(data[best_feature]):\n",
    "            value_data = data[data[best_feature] == value]\n",
    "            subtree = ID3(value_data, originaldata, remaining_features, target_attribute_name, parent_node_class)\n",
    "            tree[best_feature][value] = subtree\n",
    "\n",
    "        return tree"
   ]
  },
  {
   "cell_type": "code",
   "execution_count": null,
   "metadata": {},
   "outputs": [],
   "source": [
    "tree = ID3(dataset,dataset,dataset.columns[:-1])\n",
    "print(' \\nDisplay Tree\\n',tree)"
   ]
  }
 ],
 "metadata": {
  "kernelspec": {
   "display_name": "Python 3",
   "language": "python",
   "name": "python3"
  },
  "language_info": {
   "codemirror_mode": {
    "name": "ipython",
    "version": 3
   },
   "file_extension": ".py",
   "mimetype": "text/x-python",
   "name": "python",
   "nbconvert_exporter": "python",
   "pygments_lexer": "ipython3",
   "version": "3.11.4"
  }
 },
 "nbformat": 4,
 "nbformat_minor": 2
}
